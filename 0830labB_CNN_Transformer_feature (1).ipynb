{
  "cells": [
    {
      "cell_type": "code",
      "execution_count": null,
      "metadata": {
        "id": "CBwTQEHMXHbF"
      },
      "outputs": [],
      "source": [
        "import os\n",
        "import sys\n",
        "from tempfile import NamedTemporaryFile\n",
        "from urllib.request import urlopen\n",
        "from urllib.parse import unquote, urlparse\n",
        "from urllib.error import HTTPError\n",
        "from zipfile import ZipFile\n",
        "import tarfile\n",
        "import shutil\n",
        "\n",
        "CHUNK_SIZE = 40960\n",
        "DATA_SOURCE_MAPPING = 'isic-2024-challenge:https%3A%2F%2Fstorage.googleapis.com%2Fkaggle-competitions-data%2Fkaggle-v2%2F63056%2F9094797%2Fbundle%2Farchive.zip%3FX-Goog-Algorithm%3DGOOG4-RSA-SHA256%26X-Goog-Credential%3Dgcp-kaggle-com%2540kaggle-161607.iam.gserviceaccount.com%252F20240902%252Fauto%252Fstorage%252Fgoog4_request%26X-Goog-Date%3D20240902T021436Z%26X-Goog-Expires%3D259200%26X-Goog-SignedHeaders%3Dhost%26X-Goog-Signature%3Daccb17b34cdb8266b58b2df3757027d44b954bd8c95863766cf12b39cc4d81531b3caf625841d671d9eaf2cf9ec12f3c7b6af86b5d3f186ad49082e8d7070ca1d6d3ac2b02bbac8a5d6754261c7beaecbb9d47ecfecba9a586a0cc557abb532058db18320125d17086ce5ba4f6ece886dc46808d1a7a0e6c6f91ef34de2adb065861eb277e23995dcb68fe67191641dab0cd9d9332c4c14c49f9cdc84195b85b3d95366692c9626c95f8c0eb2b5562440b3eb4c0d43a480414bdf23268161aa0291c357ef502da96e1e92a67a9760c4ca5d41513ec8ae772d6af4273d9ac010c87a0a485dcd82d2607567042584f1607269672245e2309a9b04aa08398779011,isic-2024-fails:https%3A%2F%2Fstorage.googleapis.com%2Fkaggle-data-sets%2F5406640%2F8982084%2Fbundle%2Farchive.zip%3FX-Goog-Algorithm%3DGOOG4-RSA-SHA256%26X-Goog-Credential%3Dgcp-kaggle-com%2540kaggle-161607.iam.gserviceaccount.com%252F20240902%252Fauto%252Fstorage%252Fgoog4_request%26X-Goog-Date%3D20240902T021436Z%26X-Goog-Expires%3D259200%26X-Goog-SignedHeaders%3Dhost%26X-Goog-Signature%3Da898192b54804c115192fe8d0c3139c9563154b56f6bf6baa6d51f9df8a0f25b0bfe287e7f01d4efc5e5a8e6fb928023d3877e11f56fc11a5c60eb7d6b9ac00bb10c8d85ce7aa8a1a88d5147200dfdeda590019e0d52d9bde15c1d127fbeaa9ecd1c09bb3849b185d8299fbd6edc5a95cecb332b4326a9060a64e575c8dfa3874705e100eceed5386aed47ba8577a6db03df60614ce1bcda97f34f8cb40b8a7de959c41d77b0cd8edc7234488e45cd821d7779db597c22a1d1763ccc3003cd8d248ec43aa836b1a6841f89b2fe9fa883d220d8bf82607d7d09fee5efb44974d69b8c87f80ade0097502fe20f723e3b47ada20e41e8bece137cf9cc0a76418cc5,isic-2024-pl-submission-script-and-preds:https%3A%2F%2Fstorage.googleapis.com%2Fkaggle-data-sets%2F5415918%2F8991790%2Fbundle%2Farchive.zip%3FX-Goog-Algorithm%3DGOOG4-RSA-SHA256%26X-Goog-Credential%3Dgcp-kaggle-com%2540kaggle-161607.iam.gserviceaccount.com%252F20240902%252Fauto%252Fstorage%252Fgoog4_request%26X-Goog-Date%3D20240902T021436Z%26X-Goog-Expires%3D259200%26X-Goog-SignedHeaders%3Dhost%26X-Goog-Signature%3D2a64443cf799a1ff3f19e61d5e6c87c9b889a1d9e7f04144f9b1665ab6ec99e8539de82c31533442113b7c7298ea121458fd0b93ae4be36914904f98ad5b03c27062bd6cf08bf8193e240be640fab14e59826156966a981e9f2591a1a5dea33699ff2d5af808755e4de8ed5d581dcd78aa34c6deb844d147c045a3357c64f52c0b0f9d12b96952e48d46763a9be753f546bdcbbea1c612255d0c68bbb14aab90aebf66d028bd51b2220a1e4c547cf0a5f2c07eb7e82d7caee839874ae191c35303f2a9f1ff9e851f7cb6069095a3cade2f930424fe76df1306dfb80d25283ef4379e1cff769d83275e1eb37f63b0ab442f9c431b842e35b3204ac7299c62bb81'\n",
        "\n",
        "KAGGLE_INPUT_PATH='/kaggle/input'\n",
        "KAGGLE_WORKING_PATH='/kaggle/working'\n",
        "KAGGLE_SYMLINK='kaggle'\n",
        "\n",
        "!umount /kaggle/input/ 2> /dev/null\n",
        "shutil.rmtree('/kaggle/input', ignore_errors=True)\n",
        "os.makedirs(KAGGLE_INPUT_PATH, 0o777, exist_ok=True)\n",
        "os.makedirs(KAGGLE_WORKING_PATH, 0o777, exist_ok=True)\n",
        "\n",
        "try:\n",
        "  os.symlink(KAGGLE_INPUT_PATH, os.path.join(\"..\", 'input'), target_is_directory=True)\n",
        "except FileExistsError:\n",
        "  pass\n",
        "try:\n",
        "  os.symlink(KAGGLE_WORKING_PATH, os.path.join(\"..\", 'working'), target_is_directory=True)\n",
        "except FileExistsError:\n",
        "  pass\n",
        "\n",
        "for data_source_mapping in DATA_SOURCE_MAPPING.split(','):\n",
        "    directory, download_url_encoded = data_source_mapping.split(':')\n",
        "    download_url = unquote(download_url_encoded)\n",
        "    filename = urlparse(download_url).path\n",
        "    destination_path = os.path.join(KAGGLE_INPUT_PATH, directory)\n",
        "    try:\n",
        "        with urlopen(download_url) as fileres, NamedTemporaryFile() as tfile:\n",
        "            total_length = fileres.headers['content-length']\n",
        "            print(f'Downloading {directory}, {total_length} bytes compressed')\n",
        "            dl = 0\n",
        "            data = fileres.read(CHUNK_SIZE)\n",
        "            while len(data) > 0:\n",
        "                dl += len(data)\n",
        "                tfile.write(data)\n",
        "                done = int(50 * dl / int(total_length))\n",
        "                sys.stdout.write(f\"\\r[{'=' * done}{' ' * (50-done)}] {dl} bytes downloaded\")\n",
        "                sys.stdout.flush()\n",
        "                data = fileres.read(CHUNK_SIZE)\n",
        "            if filename.endswith('.zip'):\n",
        "              with ZipFile(tfile) as zfile:\n",
        "                zfile.extractall(destination_path)\n",
        "            else:\n",
        "              with tarfile.open(tfile.name) as tarfile:\n",
        "                tarfile.extractall(destination_path)\n",
        "            print(f'\\nDownloaded and uncompressed: {directory}')\n",
        "    except HTTPError as e:\n",
        "        print(f'Failed to load (likely expired) {download_url} to path {destination_path}')\n",
        "        continue\n",
        "    except OSError as e:\n",
        "        print(f'Failed to load {download_url} to path {destination_path}')\n",
        "        continue\n",
        "\n",
        "print('Data source import complete.')"
      ]
    },
    {
      "cell_type": "markdown",
      "metadata": {
        "id": "HPai-QRMXHbI"
      },
      "source": [
        "# <span><h1 style = \"font-family: garamond; font-size: 40px; font-style: normal; letter-spcaing: 3px; background-color: #f6f5f5; color :#fe346e; border-radius: 100px 100px; text-align:center\">Initialization</h1></span>\n",
        "This note book is forked from [here](https://www.kaggle.com/code/motono0223/isic-pytorch-training-baseline-image-only)\n",
        "\n",
        "Credit:\n",
        "* https://www.kaggle.com/code/samu2505/isic-pytorchmodel-training\n",
        "    * This notebook added images from past ISIC datasets and I used it to enlarge the size of positive cases\n",
        "    \n",
        "Future Improvements:\n",
        "* I used EffNet_b3, and maybe other model could have better performance.\n",
        "* The size of dataset is limited due to the computation power. if you have better machine, you could enlarge the dataset of training.\n",
        "* Parameter finetuning (the epoch = 20 now).\n",
        "* I only one fold out of five, which can be changed.\n",
        "\n",
        "Notebooks:\n",
        "- Training notebook (This Notebook)\n",
        "- [Inference notebook](https://www.kaggle.com/code/hugowjd/isic-2024-pytorch-inference-effnet-b2/)"
      ]
    },
    {
      "cell_type": "markdown",
      "metadata": {
        "id": "7-VnNc2_XHbI"
      },
      "source": [
        "\n",
        "## <span><h1 style = \"font-family: garamond; font-size: 30px; font-style: normal; letter-spcaing: 3px; background-color: #f6f5f5; color :#fe346e; border-radius: 50px 50px;\">Import Required Libraries</h1></span>"
      ]
    },
    {
      "cell_type": "code",
      "execution_count": null,
      "metadata": {
        "id": "OUk34krdXHbI"
      },
      "outputs": [],
      "source": [
        "\n",
        "!pip install torcheval\n",
        "!pip install timm\n",
        "!pip install torchmetrics\n"
      ]
    },
    {
      "cell_type": "code",
      "execution_count": null,
      "metadata": {
        "id": "hjKeO0hjXHbJ"
      },
      "outputs": [],
      "source": [
        "import locale\n",
        "locale.getpreferredencoding = lambda: \"UTF-8\"\n",
        "import os\n",
        "import gc\n",
        "import cv2\n",
        "import math\n",
        "import copy\n",
        "import time\n",
        "import random\n",
        "import glob\n",
        "from pathlib import Path\n",
        "\n",
        "# For data manipulation\n",
        "import numpy as np\n",
        "import pandas as pd\n",
        "\n",
        "# Pytorch Imports\n",
        "import torch\n",
        "import torch.nn as nn\n",
        "import torch.optim as optim\n",
        "import torch.nn.functional as F\n",
        "from torch.optim import lr_scheduler\n",
        "from torch.utils.data import Dataset, DataLoader\n",
        "from torch.cuda import amp\n",
        "import torchvision\n",
        "from torcheval.metrics.functional import binary_auroc\n",
        "from torchmetrics import AUROC\n",
        "\n",
        "# Utils\n",
        "import joblib\n",
        "from tqdm import tqdm\n",
        "from collections import defaultdict\n",
        "\n",
        "# Sklearn Imports\n",
        "from sklearn.preprocessing import LabelEncoder\n",
        "from sklearn.model_selection import StratifiedKFold, StratifiedGroupKFold\n",
        "from sklearn.metrics import roc_curve, auc\n",
        "from sklearn.metrics import confusion_matrix\n",
        "\n",
        "# For Image Models\n",
        "import timm\n",
        "\n",
        "# Albumentations for augmentations\n",
        "import albumentations as A\n",
        "from albumentations.pytorch import ToTensorV2\n",
        "\n",
        "# For colored terminal text\n",
        "# from colorama import Fore, Back, Style\n",
        "# b_ = Fore.BLUE\n",
        "# sr_ = Style.RESET_ALL\n",
        "\n",
        "import warnings\n",
        "warnings.filterwarnings(\"ignore\")\n",
        "\n",
        "# Plot package\n",
        "import PIL\n",
        "from matplotlib import pyplot as plt\n",
        "import seaborn as sns"
      ]
    },
    {
      "cell_type": "markdown",
      "metadata": {
        "id": "cHOL7IwaXHbJ"
      },
      "source": [
        "# <span><h1 style = \"font-family: garamond; font-size: 40px; font-style: normal; letter-spcaing: 3px; background-color: #f6f5f5; color :#fe346e; border-radius: 100px 100px; text-align:center\">Configuration</h1></span>"
      ]
    },
    {
      "cell_type": "code",
      "execution_count": null,
      "metadata": {
        "id": "82Gwiau0ZWL2"
      },
      "outputs": [],
      "source": [
        "CONFIG = {\n",
        "    \"seed\": 817,\n",
        "    \"epochs\": 5,\n",
        "    \"img_size\": 224,\n",
        "    \"model_name\": \"efficientnet_b4\",\n",
        "    \"num_classes\": 1,\n",
        "    \"train_batch_size\": 64,\n",
        "    \"valid_batch_size\": 32,\n",
        "    \"learning_rate\": 1e-5,\n",
        "    \"scheduler\": 'CosineAnnealingLR',\n",
        "    \"min_lr\": 1e-9,\n",
        "    \"T_max\": 500,\n",
        "    \"weight_decay\": 1e-7,\n",
        "    \"fold\" : 0,\n",
        "    \"n_fold\": 100,\n",
        "    \"n_accumulate\": 1,\n",
        "    \"device\": torch.device(\"cuda:0\" if torch.cuda.is_available() else \"cpu\"),\n",
        "    \"use_previous_positive_data\": True,\n",
        "}"
      ]
    },
    {
      "cell_type": "code",
      "execution_count": null,
      "metadata": {
        "id": "SuOYpdU3XHbK"
      },
      "outputs": [],
      "source": [
        "CONFIG['device']\n",
        "timm.list_models()"
      ]
    },
    {
      "cell_type": "markdown",
      "metadata": {
        "id": "8Oc1HdO06Uah"
      },
      "source": [
        "# Table data"
      ]
    },
    {
      "cell_type": "code",
      "execution_count": null,
      "metadata": {
        "id": "uHH0HWTK6NIS"
      },
      "outputs": [],
      "source": [
        "# import pandas as pd\n",
        "# import numpy as np\n",
        "# df_train = pd.read_csv(\"/kaggle/input/isic-2024-challenge/train-metadata.csv\")\n",
        "# df_test = pd.read_csv('/kaggle/input/isic-2024-challenge/test-metadata.csv')\n",
        "# df_test['target'] = 0 # dummy\n",
        "# print(df_train.describe())\n",
        "# print(df_test.describe())\n",
        "# # df_sub = pd.read_csv(SAMPLE)\n",
        "# feature_name=['isic_id',\n",
        "#         'age_approx',\n",
        "#         'sex',\n",
        "#         'anatom_site_general', 'clin_size_long_diam_mm',\n",
        "#         'tbp_tile_type',\n",
        "#         'tbp_lv_A', 'tbp_lv_Aext',\n",
        "#         'tbp_lv_B', 'tbp_lv_Bext',\n",
        "#         'tbp_lv_C', 'tbp_lv_Cext',\n",
        "#         'tbp_lv_H', 'tbp_lv_Hext',\n",
        "#         'tbp_lv_L', 'tbp_lv_Lext',\n",
        "#         'tbp_lv_areaMM2', 'tbp_lv_area_perim_ratio',\n",
        "#         'tbp_lv_color_std_mean', 'tbp_lv_deltaA', 'tbp_lv_deltaB',\n",
        "#         'tbp_lv_deltaL', 'tbp_lv_deltaLB',\n",
        "#         'tbp_lv_deltaLBnorm', 'tbp_lv_eccentricity',\n",
        "#         'tbp_lv_location', 'tbp_lv_location_simple',\n",
        "#         'tbp_lv_minorAxisMM', 'tbp_lv_nevi_confidence',\n",
        "#         'tbp_lv_norm_border', 'tbp_lv_norm_color',\n",
        "#         'tbp_lv_perimeterMM',\n",
        "#         'tbp_lv_radial_color_std_max',\n",
        "#         'tbp_lv_stdL', 'tbp_lv_stdLExt',\n",
        "#         'tbp_lv_symm_2axis', 'tbp_lv_symm_2axis_angle',\n",
        "#         'tbp_lv_x', 'tbp_lv_y', 'tbp_lv_z',\n",
        "#         'target'\n",
        "#         ]\n",
        "# df_train=df_train[feature_name]\n",
        "# df_test=df_test[feature_name]\n",
        "# print(df_train.isnull().sum())\n",
        "# print(df_test.isnull().sum())\n",
        "# def data_cleaning(df):\n",
        "#     df['age_approx'] = df['age_approx'].fillna(df['age_approx'].median())\n",
        "#     df.drop(columns=['tbp_lv_location_simple'], inplace=True)\n",
        "#     df['tbp_lv_location'] = df['tbp_lv_location'].replace('Unknown', np.nan)\n",
        "#     return df\n",
        "\n",
        "# # 清洗数据\n",
        "# df_train_clean = data_cleaning(df_train)\n",
        "# df_test_clean = data_cleaning(df_test)\n",
        "\n",
        "# # 合并训练集和测试集进行编码\n",
        "# combined_df = pd.concat([df_train_clean, df_test_clean], ignore_index=True)\n",
        "\n",
        "# # 获取分类列的列表\n",
        "# categorical_cols = ['anatom_site_general', 'tbp_lv_location', 'tbp_tile_type', 'sex']\n",
        "\n",
        "# # 进行独热编码\n",
        "# combined_df = pd.get_dummies(combined_df, columns=categorical_cols)\n",
        "\n",
        "# # 拆分回训练集和测试集\n",
        "# df_train_encoded = combined_df.iloc[:len(df_train_clean)]\n",
        "# df_test_encoded = combined_df.iloc[len(df_train_clean):]\n",
        "\n",
        "# # 还原索引\n",
        "# df_train_encoded.index = df_train.index\n",
        "# df_test_encoded.index = df_test.index\n",
        "\n",
        "# # 检查处理结果\n",
        "# print(df_train_encoded.head())\n",
        "# print(df_test_encoded.head())\n",
        "# df_train=df_train_encoded\n",
        "# df_test=df_test_encoded\n",
        "# df_train.to_csv(\"train.csv\")\n",
        "# df_test.to_csv(\"test.csv\")\n",
        "# import pandas as pd\n",
        "# from sklearn.preprocessing import StandardScaler\n",
        "\n",
        "\n",
        "# # 1.转换数据类型\n",
        "# cols_to_convert = [col for col in df_train.columns if col != 'isic_id']\n",
        "# print(cols_to_convert)\n",
        "# df_train[cols_to_convert] = df_train[cols_to_convert].astype('float64')\n",
        "# df_test[cols_to_convert] = df_test[cols_to_convert].astype('float64')\n",
        "\n",
        "# # 2. 对 df_train 进行标准化\n",
        "# scaler = StandardScaler()\n",
        "# df_train_scaled = df_train.copy()\n",
        "# df_test_scaled = df_test.copy()\n",
        "\n",
        "# # 标准化训练数据\n",
        "# df_train_scaled[cols_to_convert] = scaler.fit_transform(df_train_scaled[cols_to_convert])\n",
        "\n",
        "# # 标准化测试数据\n",
        "# df_test_scaled[cols_to_convert] = scaler.transform(df_test_scaled[cols_to_convert])\n",
        "\n",
        "# # 打印数据类型和标准化后的数据摘要\n",
        "# print(\"训练集数据类型:\")\n",
        "# print(df_train_scaled.dtypes)\n",
        "\n",
        "# print(\"\\n测试集数据类型:\")\n",
        "# print(df_test_scaled.dtypes)\n",
        "\n",
        "# print(\"\\n训练集标准化后的描述统计信息:\")\n",
        "# print(df_train_scaled.describe())\n",
        "\n",
        "# print(\"\\n测试集标准化后的描述统计信息:\")\n",
        "# print(df_test_scaled.describe())\n",
        "# df_train_scaled.to_csv(\"train_scaled.csv\")\n",
        "# df_test_scaled.to_csv(\"test_scaled.csv\")"
      ]
    },
    {
      "cell_type": "markdown",
      "metadata": {
        "id": "MV6-sA3eXHbK"
      },
      "source": [
        "## <span><h2 style = \"font-family: garamond; font-size: 30px; font-style: normal; letter-spcaing: 3px; background-color: #f6f5f5; color :#fe346e; border-radius: 50px 50px;\">Set Seed for Reproducibility</h2></span>"
      ]
    },
    {
      "cell_type": "code",
      "execution_count": null,
      "metadata": {
        "id": "rnr-dGoxXHbK"
      },
      "outputs": [],
      "source": [
        "def set_seed(seed=42):\n",
        "    '''Sets the seed of the entire notebook so results are the same every time we run.\n",
        "    This is for REPRODUCIBILITY.'''\n",
        "    np.random.seed(seed)\n",
        "    if torch.cuda.is_available():\n",
        "        torch.cuda.manual_seed(seed)\n",
        "        torch.cuda.manual_seed_all(seed)\n",
        "        torch.backends.cudnn.deterministic = False\n",
        "        torch.backends.cudnn.benchmark = True\n",
        "    os.environ['PYTHONHASHSEED'] = str(seed)\n",
        "    print(f\"Seeding done ...\")\n",
        "\n",
        "def flush():\n",
        "    gc.collect()\n",
        "    if torch.cuda.is_available():\n",
        "        torch.cuda.empty_cache()\n",
        "        torch.cuda.reset_peak_memory_stats()\n",
        "set_seed(CONFIG['seed'])"
      ]
    },
    {
      "cell_type": "code",
      "execution_count": null,
      "metadata": {
        "id": "c1HQbl2YXHbK"
      },
      "outputs": [],
      "source": [
        "ROOT_DIR = \"/kaggle/input/isic-2024-challenge\"\n",
        "TRAIN_DIR = f'{ROOT_DIR}/train-image/image'"
      ]
    },
    {
      "cell_type": "code",
      "execution_count": null,
      "metadata": {
        "id": "1sFRYeolXHbK"
      },
      "outputs": [],
      "source": [
        "def get_train_file_path(image_id):\n",
        "    return f\"{TRAIN_DIR}/{image_id}.jpg\""
      ]
    },
    {
      "cell_type": "markdown",
      "metadata": {
        "id": "uD_Jl66rXHbK"
      },
      "source": [
        "# <h1 style = \"font-family: garamond; font-size: 40px; font-style: normal; letter-spcaing: 3px; background-color: #f6f5f5; color :#fe346e; border-radius: 100px 100px; text-align:center\">Read the Data</h1>"
      ]
    },
    {
      "cell_type": "code",
      "execution_count": null,
      "metadata": {
        "id": "o2xxVoG4ao1R"
      },
      "outputs": [],
      "source": [
        "import os\n",
        "\n",
        "os.environ['LANG'] = 'en_US.UTF-8'\n",
        "os.environ['LC_ALL'] = 'en_US.UTF-8'\n"
      ]
    },
    {
      "cell_type": "code",
      "execution_count": null,
      "metadata": {
        "id": "0xSnMIsJapuE"
      },
      "outputs": [],
      "source": [
        "from google.colab import drive\n",
        "drive.mount('/content/drive')"
      ]
    },
    {
      "cell_type": "code",
      "execution_count": null,
      "metadata": {
        "collapsed": true,
        "id": "2x489QKDbE5f"
      },
      "outputs": [],
      "source": [
        "!rm -rf resize_data\n",
        "!unzip /content/drive/MyDrive/resize_data.zip\n"
      ]
    },
    {
      "cell_type": "code",
      "execution_count": null,
      "metadata": {
        "id": "SkMuRgNIXHbL"
      },
      "outputs": [],
      "source": [
        "train_images = sorted(glob.glob(f\"{TRAIN_DIR}/*.jpg\"))\n",
        "print(train_images)"
      ]
    },
    {
      "cell_type": "code",
      "execution_count": null,
      "metadata": {
        "id": "wEqXA-KHd4NF"
      },
      "outputs": [],
      "source": [
        "# Read past isic competition data\n",
        "check_path = lambda p: os.path.exists(p)\n",
        "DATA_PATH = Path(\"/content/resize_data/\")\n",
        "# 2020\n",
        "get_image_path_2020 = lambda p: os.path.join(f'{str(DATA_PATH/\"Data_2020\")}/{p}.jpg')\n",
        "df_train_2020 = pd.read_excel(DATA_PATH/\"Data_2020.xlsx\")\n",
        "df_positive_2020 = df_train_2020[df_train_2020[\"melanoma\"] == 1].reset_index(drop=True)\n",
        "df_positive_2020['file_path'] = df_positive_2020[\"image_id\"].apply(get_image_path_2020)\n",
        "df_positive_2020['exists'] = df_positive_2020['file_path'].apply(check_path)\n",
        "df_positive_2020 = df_positive_2020[df_positive_2020['exists'] == True].reset_index()\n",
        "df_negative_2020 = df_train_2020[df_train_2020[\"melanoma\"] == 0].reset_index(drop=True)\n",
        "df_negative_2020['file_path'] = df_negative_2020[\"image_id\"].apply(get_image_path_2020)\n",
        "df_negative_2020['exists'] = df_negative_2020['file_path'].apply(check_path)\n",
        "df_negative_2020 = df_negative_2020[df_negative_2020['exists'] == True].reset_index()\n",
        "# print(df_positive_2020)\n",
        "# print(df_negative_2020)\n",
        "#2019\n",
        "get_image_path_2019 = lambda p: os.path.join(f'{str(DATA_PATH/\"Data_2019\")}/{p}.jpg')\n",
        "df_train_2019 = pd.read_excel(DATA_PATH/\"Data_2019.xlsx\")\n",
        "df_positive_2019=df_train_2019[df_train_2019[\"melanoma\"] == 1].reset_index(drop=True)\n",
        "df_positive_2019['file_path'] = df_positive_2019[\"image_id\"].apply(get_image_path_2019)\n",
        "df_positive_2019['exists'] = df_positive_2019['file_path'].apply(check_path)\n",
        "df_positive_2019 = df_positive_2019[df_positive_2019['exists'] == True].reset_index()\n",
        "df_negative_2019 = df_train_2019[df_train_2019[\"melanoma\"] == 0].reset_index(drop=True)\n",
        "df_negative_2019['file_path'] = df_negative_2019[\"image_id\"].apply(get_image_path_2019)\n",
        "df_negative_2019['exists'] = df_negative_2019['file_path'].apply(check_path)\n",
        "df_negative_2019 = df_negative_2019[df_negative_2019['exists'] == True].reset_index()\n",
        "# print(df_positive_2019)\n",
        "# print(df_negative_2019)\n",
        "#2018\n",
        "get_image_path_2018 = lambda p: os.path.join(f'{str(DATA_PATH/\"Data_2018\")}/{p}.jpg')\n",
        "df_train_2018 = pd.read_excel(DATA_PATH/\"Data_2018.xlsx\")\n",
        "df_positive_2018=df_train_2018[df_train_2018[\"melanoma\"] == 1].reset_index(drop=True)\n",
        "df_positive_2018['file_path'] = df_positive_2018[\"image_id\"].apply(get_image_path_2018)\n",
        "df_positive_2018['exists'] = df_positive_2018['file_path'].apply(check_path)\n",
        "df_positive_2018 = df_positive_2018[df_positive_2018['exists'] == True].reset_index()\n",
        "df_negative_2018 = df_train_2018[df_train_2018[\"melanoma\"] == 0].reset_index(drop=True)\n",
        "df_negative_2018['file_path'] = df_negative_2018[\"image_id\"].apply(get_image_path_2018)\n",
        "df_negative_2018['exists'] = df_negative_2018['file_path'].apply(check_path)\n",
        "df_negative_2018 = df_negative_2018[df_negative_2018['exists'] == True].reset_index()\n",
        "# print(df_positive_2018)\n",
        "# print(df_negative_2018)\n",
        "#2017\n",
        "get_image_path_2017 = lambda p: os.path.join(f'{str(DATA_PATH/\"Data_2017\")}/{p}.jpg')\n",
        "df_train_2017 = pd.read_excel(DATA_PATH/\"Data_2017.xlsx\")\n",
        "df_positive_2017=df_train_2017[df_train_2017[\"melanoma\"] == 1].reset_index(drop=True)\n",
        "df_positive_2017['file_path'] = df_positive_2017[\"image_id\"].apply(get_image_path_2017)\n",
        "df_positive_2017['exists'] = df_positive_2017['file_path'].apply(check_path)\n",
        "df_positive_2017 = df_positive_2017[df_positive_2017['exists'] == True].reset_index()\n",
        "df_negative_2017 = df_train_2017[df_train_2017[\"melanoma\"] == 0].reset_index(drop=True)\n",
        "df_negative_2017['file_path'] = df_negative_2017[\"image_id\"].apply(get_image_path_2017)\n",
        "df_negative_2017['exists'] = df_negative_2017['file_path'].apply(check_path)\n",
        "df_negative_2017 = df_negative_2017[df_negative_2017['exists'] == True].reset_index()\n",
        "# print(df_positive_2017)\n",
        "# print(df_negative_2017)\n",
        "#2016\n",
        "get_image_path_2016 = lambda p: os.path.join(f'{str(DATA_PATH/\"Data_2016\")}/{p}.jpg')\n",
        "df_train_2016 = pd.read_excel(DATA_PATH/\"Data_2016.xlsx\")\n",
        "df_positive_2016=df_train_2016[df_train_2016[\"melanoma\"] == 1].reset_index(drop=True)\n",
        "df_positive_2016['file_path'] = df_positive_2016[\"image_id\"].apply(get_image_path_2016)\n",
        "df_positive_2016['exists'] = df_positive_2016['file_path'].apply(check_path)\n",
        "df_positive_2016 = df_positive_2016[df_positive_2016['exists'] == True].reset_index()\n",
        "df_negative_2016 = df_train_2016[df_train_2016[\"melanoma\"] == 0].reset_index(drop=True)\n",
        "df_negative_2016['file_path'] = df_negative_2016[\"image_id\"].apply(get_image_path_2016)\n",
        "df_negative_2016['exists'] = df_negative_2016['file_path'].apply(check_path)\n",
        "df_negative_2016 = df_negative_2016[df_negative_2016['exists'] == True].reset_index()\n",
        "# print(df_positive_2016)\n",
        "# print(df_negative_2016)\n",
        "past_df_positive=pd.concat([df_positive_2016,df_positive_2017,df_positive_2018,df_positive_2019,df_positive_2020],axis=0)\n",
        "print(past_df_positive)\n",
        "past_df_positive[\"isic_id\"]=past_df_positive[\"image_id\"]\n",
        "past_df_positive[\"target\"]=past_df_positive[\"melanoma\"]\n",
        "past_df_positive[\"patient_id\"]=0\n",
        "print(past_df_positive)\n",
        "past_df_negative=pd.concat([df_negative_2016,df_negative_2017,df_negative_2018,df_negative_2019,df_negative_2020],axis=0)\n",
        "past_df_negative[\"isic_id\"]=past_df_negative[\"image_id\"]\n",
        "past_df_negative[\"target\"]=past_df_negative[\"melanoma\"]\n",
        "past_df_negative[\"patient_id\"]=0\n",
        "print(past_df_negative)"
      ]
    },
    {
      "cell_type": "code",
      "execution_count": null,
      "metadata": {
        "colab": {
          "background_save": true
        },
        "id": "_DEDnB-sXHbL"
      },
      "outputs": [],
      "source": [
        "# # Read past isic competition data\n",
        "# check_path = lambda p: os.path.exists(p)\n",
        "\n",
        "# # 2020\n",
        "# DATA_PATH_2020 = Path(\"/kaggle/input/isic-2020-jpg-256x256-resized\")\n",
        "# get_image_path_2020 = lambda p: os.path.join(f'{str(DATA_PATH_2020/\"train-image/image\")}/{p}.jpg')\n",
        "# df_train_2020 = pd.read_csv(DATA_PATH_2020/\"train-metadata.csv\")\n",
        "# df_positive_2020 = df_train_2020[df_train_2020[\"target\"] == 1].reset_index(drop=True)\n",
        "# df_positive_2020['file_path'] = df_positive_2020[\"isic_id\"].apply(get_image_path_2020)\n",
        "# df_positive_2020['exists'] = df_positive_2020['file_path'].apply(check_path)\n",
        "# df_positive_2020 = df_positive_2020[df_positive_2020['exists'] == True].reset_index()\n",
        "# # 2019\n",
        "# DATA_PATH_2019 = Path(\"/kaggle/input/isic-2019-jpg-256x256-resized\")\n",
        "# get_image_path_2019 = lambda p: os.path.join(f'{str(DATA_PATH_2019/\"train-image/image\")}/{p}.jpg')\n",
        "# df_train_2019 = pd.read_csv(DATA_PATH_2019/\"train-metadata.csv\")\n",
        "# df_positive_2019 = df_train_2019[df_train_2019[\"target\"] == 1].reset_index(drop=True)\n",
        "# df_positive_2019['file_path'] = df_positive_2019[\"isic_id\"].apply(get_image_path_2019)\n",
        "# df_positive_2019['exists'] = df_positive_2019['file_path'].apply(check_path)\n",
        "# df_positive_2019 = df_positive_2019[df_positive_2019['exists'] == True].reset_index()\n",
        "# # 2018\n",
        "# DATA_PATH_2018 = Path(\"/kaggle/input/isic-2018-jpg-256x256-resized\")\n",
        "# get_image_path_2018 = lambda p: os.path.join(f'{str(DATA_PATH_2018/\"train-image/image\")}/{p}.jpg')\n",
        "# df_train_2018 = pd.read_csv(DATA_PATH_2018/\"train-metadata.csv\")\n",
        "# df_positive_2018 = df_train_2018[df_train_2018[\"target\"] == 1].reset_index(drop=True)\n",
        "# df_positive_2018['file_path'] = df_positive_2018[\"isic_id\"].apply(get_image_path_2018)\n",
        "# df_positive_2018['exists'] = df_positive_2018['file_path'].apply(check_path)\n",
        "# df_positive_2018 = df_positive_2018[df_positive_2018['exists'] == True].reset_index()"
      ]
    },
    {
      "cell_type": "code",
      "execution_count": null,
      "metadata": {
        "colab": {
          "background_save": true
        },
        "id": "sdp51_l0XHbL"
      },
      "outputs": [],
      "source": [
        "# past_df_positive = pd.concat([df_positive_2018, df_positive_2019, df_positive_2020], axis=0)\n",
        "# past_df_positive.head(3)\n",
        "# print(f'Number of positive cases: {past_df_positive.shape[0]}')"
      ]
    },
    {
      "cell_type": "code",
      "execution_count": null,
      "metadata": {
        "id": "kj2yyz6ZXHbL"
      },
      "outputs": [],
      "source": [
        "df = pd.read_csv(f\"{ROOT_DIR}/train-metadata.csv\")\n",
        "print(\"        df.size, # of positive cases\")\n",
        "print(\"original>\", df.shape[0], df.target.sum())\n",
        "#df_2024 = df.copy()\n",
        "df[\"patient_id\"]=1\n",
        "selected_cols = ['isic_id', 'target', 'file_path', 'patient_id']\n",
        "# Positive cases\n",
        "df_positive = df[df[\"target\"] == 1].reset_index(drop=True)\n",
        "df_positive['file_path'] = df_positive['isic_id'].apply(get_train_file_path)\n",
        "if CONFIG['use_previous_positive_data']:\n",
        "  df_positive = pd.concat([df_positive[selected_cols],past_df_positive[selected_cols]], axis = 0).reset_index(drop=True)\n",
        "# Negative cases\n",
        "df_negative = df[df[\"target\"] == 0].reset_index(drop=True)\n",
        "df_negative['file_path'] = df_negative['isic_id'].apply(get_train_file_path)\n",
        "if CONFIG['use_previous_positive_data']:\n",
        "    df_negative = pd.concat([past_df_negative[selected_cols],df_negative[selected_cols]], axis = 0).reset_index(drop=True)\n",
        "    #df_negative = df_negative.iloc[:df_positive.shape[0]*55, :] # positive:negative = 1:5\n",
        "else:\n",
        "    df_negative = df_negative.iloc[:df_positive.shape[0]*1010, :]\n",
        "\n",
        "df_negative = df_negative[selected_cols]\n",
        "#df_negative = df_negative[ df_negative[\"file_path\"].isin(train_images) ]\n",
        "df = pd.concat([df_negative,df_positive]).reset_index(drop=True)\n",
        "print(\"filtered>\", df.shape[0], df.target.sum())\n",
        "\n",
        "# df.head(3)"
      ]
    },
    {
      "cell_type": "code",
      "execution_count": null,
      "metadata": {
        "id": "80LOaDV2XHbL"
      },
      "outputs": [],
      "source": [
        "df = pd.read_csv(f\"{ROOT_DIR}/train-metadata.csv\")\n",
        "print(\"        df.size, # of positive cases\")\n",
        "print(\"original>\", df.shape[0], df.target.sum())\n",
        "df_2024 = df.copy()\n",
        "df[\"patient_id\"]=1\n",
        "selected_cols = ['isic_id', 'target', 'file_path', 'patient_id']\n",
        "# Positive cases\n",
        "df_positive = df[df[\"target\"] == 1].reset_index(drop=True)\n",
        "df_positive['file_path'] = df_positive['isic_id'].apply(get_train_file_path)\n",
        "if CONFIG['use_previous_positive_data']:\n",
        "  df_positive = pd.concat([df_positive[selected_cols], past_df_positive[selected_cols]], axis = 0).reset_index(drop=True)\n",
        "# Negative cases\n",
        "df_negative = df[df[\"target\"] == 0].reset_index(drop=True)\n",
        "df_negative['file_path'] = df_negative['isic_id'].apply(get_train_file_path)\n",
        "#if CONFIG['use_previous_positive_data']:\n",
        "#    df_negative = pd.concat([past_df_negative[selected_cols],df_negative[selected_cols]], axis = 0).reset_index(drop=True)\n",
        "    #df_negative = df_negative.iloc[:df_positive.shape[0]*55, :] # positive:negative = 1:5\n",
        "# else:\n",
        "#     df_negative = df_negative.iloc[:df_positive.shape[0]*1000, :]\n",
        "\n",
        "df_negative = df_negative[selected_cols]\n",
        "#df_negative = df_negative[ df_negative[\"file_path\"].isin(train_images) ]\n",
        "df = pd.concat([df_negative,df_positive]).reset_index(drop=True)\n",
        "print(\"filtered>\", df.shape[0], df.target.sum())\n",
        "CONFIG['T_max'] = df.shape[0] * (CONFIG[\"n_fold\"]-1) * CONFIG['epochs'] // CONFIG['train_batch_size'] // CONFIG[\"n_fold\"]\n",
        "CONFIG['T_max']"
      ]
    },
    {
      "cell_type": "code",
      "source": [
        "CONFIG['T_max'] = df.shape[0] * (CONFIG[\"n_fold\"]-1) * CONFIG['epochs'] // CONFIG['train_batch_size'] // CONFIG[\"n_fold\"]\n",
        "CONFIG['T_max']"
      ],
      "metadata": {
        "id": "8mEdLJqZA_lx"
      },
      "execution_count": null,
      "outputs": []
    },
    {
      "cell_type": "markdown",
      "metadata": {
        "id": "BDu6yz2dXHbM"
      },
      "source": [
        "## <span><h2 style = \"font-family: garamond; font-size: 30px; font-style: normal; letter-spcaing: 3px; background-color: #f6f5f5; color :#fe346e; border-radius: 10px 10px;\">Create Folds</h2></span>"
      ]
    },
    {
      "cell_type": "code",
      "execution_count": null,
      "metadata": {
        "id": "eprMr-K_XHbM"
      },
      "outputs": [],
      "source": [
        "sgkf = StratifiedGroupKFold(n_splits=CONFIG['n_fold']) # I don't why my SGKF doesn't work without patient_id\n",
        "from sklearn.model_selection import KFold\n",
        "kf = KFold(CONFIG['n_fold'], shuffle=True)\n",
        "print(len(df))\n",
        "for fold, ( _, val_) in enumerate(kf.split(df)):\n",
        "    df.loc[val_ , \"kfold\"] = int(fold)\n",
        "    print(\"Validation indices for the first fold:\", val_)\n",
        "print(df[\"kfold\"])\n"
      ]
    },
    {
      "cell_type": "markdown",
      "metadata": {
        "id": "MZdTUXGlXHbM"
      },
      "source": [
        "## <span><h2 style = \"font-family: garamond; font-size: 30px; font-style: normal; letter-spcaing: 3px; background-color: #f6f5f5; color :#fe346e; border-radius: 10px 10px;\">Dataset Class</h2></span>"
      ]
    },
    {
      "cell_type": "code",
      "execution_count": null,
      "metadata": {
        "id": "iR6c5vReXHbM"
      },
      "outputs": [],
      "source": [
        "from albumentations import RandomBrightnessContrast, Compose, RGBShift\n",
        "import cv2\n",
        "import random\n",
        "class ISICDataset_for_Train(Dataset):\n",
        "    def __init__(self, df, transforms=None):\n",
        "        print(\"current or pass\",len(df),len(df[df[\"patient_id\"] == 1]),len(df[df[\"patient_id\"] == 0]))\n",
        "        self.df_positive = df[df[\"target\"] == 1].reset_index()\n",
        "        self.df_negative = df[df[\"target\"] == 0].reset_index()\n",
        "        self.file_names_positive = self.df_positive['file_path'].values\n",
        "        self.file_names_negative = self.df_negative['file_path'].values\n",
        "        self.targets_positive = self.df_positive['target'].values\n",
        "        self.targets_negative = self.df_negative['target'].values\n",
        "        self.past_df_positive = self.df_positive[\"patient_id\"].values\n",
        "        self.past_df_negative = self.df_negative[\"patient_id\"].values\n",
        "        self.transforms = transforms\n",
        "        self.total_len = len(df)\n",
        "\n",
        "        df_=df[df[\"patient_id\"] == 1].reset_index()\n",
        "        print(\"postive or negative\",len(df_),len(df_[df_[\"target\"] == 1]),len(df_[df_[\"target\"] == 0]))\n",
        "        print(self.total_len)\n",
        "        self.transform = A.Compose([\n",
        "            RandomBrightnessContrast (brightness_limit=(-0.1, -0.1), brightness_by_max=True, always_apply=None, p=1),\n",
        "            RGBShift(r_shift_limit=(35, 35), g_shift_limit=(30, 30), b_shift_limit=(-10, -10), p=1.0)\n",
        "        ])\n",
        "\n",
        "    def __len__(self):\n",
        "        return self.total_len #len(self.df_positive) * 4\n",
        "\n",
        "    def __getitem__(self, index):\n",
        "        if random.random() <= 0.2:\n",
        "          df = self.df_positive\n",
        "          file_names = self.file_names_positive\n",
        "          targets = self.targets_positive\n",
        "          past=self.past_df_positive\n",
        "\n",
        "\n",
        "        else:\n",
        "            df = self.df_negative\n",
        "            file_names = self.file_names_negative\n",
        "            targets = self.targets_negative\n",
        "            past=self.past_df_negative\n",
        "\n",
        "        index = index % df.shape[0]\n",
        "        is_past=past[index]\n",
        "        img_path = file_names[index]\n",
        "        img = cv2.imread(img_path)\n",
        "        img = cv2.cvtColor(img, cv2.COLOR_BGR2RGB)\n",
        "        target = targets[index]\n",
        "\n",
        "        if self.transforms:\n",
        "          if target==1:\n",
        "            #if is_past==0:\n",
        "            #  img = self.transform(image=img)[\"image\"]\n",
        "\n",
        "            img = self.transforms['with_augm'](image=img)[\"image\"]\n",
        "          else:\n",
        "            img = self.transforms['no_augm'](image=img)[\"image\"]\n",
        "\n",
        "\n",
        "        return {\n",
        "            'image': img,\n",
        "            'target': target\n",
        "        }\n",
        "class ISIC_2024_Dataset_for_train(Dataset):\n",
        "    def __init__(self, df, transforms=None):\n",
        "        self.df = df\n",
        "        self.file_names = df['file_path'].values\n",
        "        self.targets = df['target'].values\n",
        "        self.transforms = transforms\n",
        "\n",
        "    def __len__(self):\n",
        "        return len(self.df)\n",
        "\n",
        "    def __getitem__(self, index):\n",
        "        img_path = self.file_names[index]\n",
        "        img = cv2.imread(img_path)\n",
        "        img = cv2.cvtColor(img, cv2.COLOR_BGR2RGB)\n",
        "        target = self.targets[index]\n",
        "\n",
        "        if self.transforms:\n",
        "            img = self.transforms['no_augm'](image=img)[\"image\"]\n",
        "\n",
        "        return {\n",
        "            'image': img,\n",
        "            'target': target\n",
        "        }\n",
        "\n",
        "# class ISIC_2024_Dataset_for_test(Dataset):\n",
        "#     def __init__(self, df, transforms=None):\n",
        "#         self.df = df\n",
        "#         self.file_names = df['file_path'].values\n",
        "#         self.targets = df['target'].values\n",
        "#         self.transforms = transforms\n",
        "\n",
        "#     def __len__(self):\n",
        "#         return len(self.df)\n",
        "\n",
        "#     def __getitem__(self, index):\n",
        "#         img_path = self.file_names[index]\n",
        "#         img = cv2.imread(img_path)\n",
        "#         img = cv2.cvtColor(img, cv2.COLOR_BGR2RGB)\n",
        "#         target = self.targets[index]\n",
        "\n",
        "#         if self.transforms:\n",
        "#             img = self.transforms['no_augm'](image=img)[\"image\"]\n",
        "\n",
        "#         return {\n",
        "#             'image': img,\n",
        "#             'target': target\n",
        "#         }\n",
        "class ISICDataset(Dataset):\n",
        "    def __init__(self, df, transforms=None):\n",
        "        print(\"total current or pass\",len(df),len(df[df[\"patient_id\"] == 1]),len(df[df[\"patient_id\"] == 0]))\n",
        "        self.df = df[df[\"patient_id\"] == 1].reset_index()\n",
        "        # self.df=df\n",
        "        print(\"postive or negative\",len(self.df),len(self.df[self.df[\"target\"] == 1]),len(self.df[self.df[\"target\"] == 0]))\n",
        "        self.file_names = df['file_path'].values\n",
        "        self.targets = df['target'].values\n",
        "        self.transforms = transforms\n",
        "        print(\"len\",len(df),len(self.df))\n",
        "\n",
        "    def __len__(self):\n",
        "        return len(self.df)\n",
        "\n",
        "    def __getitem__(self, index):\n",
        "        img_path = self.file_names[index]\n",
        "        img = cv2.imread(img_path)\n",
        "        img = cv2.cvtColor(img, cv2.COLOR_BGR2RGB)\n",
        "        target = self.targets[index]\n",
        "        if self.transforms:\n",
        "          img = self.transforms['no_augm'](image=img)[\"image\"]\n",
        "\n",
        "        # if self.transforms:\n",
        "        #     img = self.transforms(image=img)[\"image\"]\n",
        "\n",
        "        return {\n",
        "            'image': img,\n",
        "            'target': target\n",
        "        }"
      ]
    },
    {
      "cell_type": "markdown",
      "metadata": {
        "id": "aVewsGjSXHbM"
      },
      "source": [
        "## <span><h2 style = \"font-family: garamond; font-size: 30px; font-style: normal; letter-spcaing: 3px; background-color: #f6f5f5; color :#fe346e; border-radius: 20px 20px\">Augmentations</h2></span>"
      ]
    },
    {
      "cell_type": "code",
      "execution_count": null,
      "metadata": {
        "id": "tEOY_9_uXHbM"
      },
      "outputs": [],
      "source": [
        "\n",
        "# data_transforms = {\n",
        "#     \"with_augm\": A.Compose([\n",
        "#         A.Resize(CONFIG['img_size'], CONFIG['img_size']),\n",
        "#         A.RandomRotate90(p=0.5),\n",
        "#         A.Flip(p=0.5),\n",
        "#         A.Downscale(p=0.25),\n",
        "#         A.ShiftScaleRotate(shift_limit=0.1,\n",
        "#                            scale_limit=0.15,\n",
        "#                            rotate_limit=60,\n",
        "#                            p=0.5),\n",
        "#         A.HueSaturationValue(\n",
        "#                 hue_shift_limit=0.1,\n",
        "#                 sat_shift_limit=0.1,\n",
        "#                 val_shift_limit=0.1,\n",
        "#                 p=0.5\n",
        "#             ),\n",
        "#         A.RandomBrightnessContrast(\n",
        "#                 brightness_limit=(-0.1,0.1),\n",
        "#                 contrast_limit=(-0.1, 0.1),\n",
        "#                 p=0.5\n",
        "#             ),\n",
        "#         A.Normalize(\n",
        "#                 mean=[0.485, 0.456, 0.406],\n",
        "#                 std=[0.229, 0.224, 0.225],\n",
        "#                 max_pixel_value=255.0,\n",
        "#                 p=1.0\n",
        "#             ),\n",
        "#         ToTensorV2()], p=1.),\n",
        "\n",
        "#     \"no_augm\": A.Compose([\n",
        "#         A.Resize(CONFIG['img_size'], CONFIG['img_size']),\n",
        "#         A.Normalize(\n",
        "#                 mean=[0.485, 0.456, 0.406],\n",
        "#                 std=[0.229, 0.224, 0.225],\n",
        "#                 max_pixel_value=255.0,\n",
        "#                 p=1.0\n",
        "#             ),\n",
        "#         ToTensorV2()], p=1.)\n",
        "# }"
      ]
    },
    {
      "cell_type": "code",
      "execution_count": null,
      "metadata": {
        "id": "TdS8mrG_ilNy"
      },
      "outputs": [],
      "source": [
        "\n",
        "data_transforms = {\n",
        "    \"with_augm\": A.Compose([\n",
        "    A.Resize(CONFIG['img_size'], CONFIG['img_size']),\n",
        "    A.Transpose(p=0.2),\n",
        "    A.VerticalFlip(p=0.25),\n",
        "    A.HorizontalFlip(p=0.25),\n",
        "    A.RandomRotate90(p=0.2),\n",
        "    # A.ColorJitter(brightness=0.1, contrast=0.1, saturation=0.1, hue=0.1, p=0.25),\n",
        "    A.Downscale(p=0.2),\n",
        "    A.OneOf([\n",
        "        A.MotionBlur(blur_limit=5),\n",
        "        A.MedianBlur(blur_limit=5),\n",
        "        A.GaussianBlur(blur_limit=5),\n",
        "        A.GaussNoise(var_limit=(5.0, 30.0)),\n",
        "    ], p=0.25),\n",
        "    A.OneOf([\n",
        "        A.OpticalDistortion(distort_limit=1.0),\n",
        "        A.GridDistortion(num_steps=5, distort_limit=1.),\n",
        "        A.ElasticTransform(alpha=3),\n",
        "    ], p=0.25),\n",
        "    # A.CLAHE(clip_limit=4.0, p=0.2),\n",
        "    A.HueSaturationValue(hue_shift_limit=20, sat_shift_limit=20, val_shift_limit=20, p=0.25),\n",
        "    A.RandomBrightnessContrast(\n",
        "        brightness_limit=(-0.2, 0.2),\n",
        "        contrast_limit=(-0.2, 0.2),\n",
        "        p=0.2\n",
        "    ),\n",
        "    A.ShiftScaleRotate(\n",
        "        shift_limit=0.1,\n",
        "        scale_limit=0.15,\n",
        "        rotate_limit=60,\n",
        "        border_mode=0,\n",
        "        p=0.2\n",
        "    ),\n",
        "    A.Normalize(\n",
        "        mean=[0.485, 0.456, 0.406],\n",
        "        std=[0.229, 0.224, 0.225],\n",
        "        max_pixel_value=255.0\n",
        "    ),\n",
        "    ToTensorV2(),\n",
        "], p=1.0),\n",
        "    \"simple_augm\":A.Compose([\n",
        "    A.Resize(CONFIG['img_size'], CONFIG['img_size']),\n",
        "    A.Transpose(p=0.2),\n",
        "    A.VerticalFlip(p=0.2),\n",
        "    A.HorizontalFlip(p=0.2),\n",
        "    A.RandomRotate90(p=0.2),\n",
        "    A.Normalize(\n",
        "        mean=[0.485, 0.456, 0.406],\n",
        "        std=[0.229, 0.224, 0.225],\n",
        "        max_pixel_value=255.0\n",
        "    ),\n",
        "    ToTensorV2(),\n",
        "], p=1.0),\n",
        "    \"no_augm\": A.Compose([\n",
        "        A.Resize(CONFIG['img_size'], CONFIG['img_size']),\n",
        "        A.Normalize(\n",
        "                mean=[0.485, 0.456, 0.406],\n",
        "                std=[0.229, 0.224, 0.225],\n",
        "                max_pixel_value=255.0,\n",
        "                p=1.0\n",
        "            ),\n",
        "        ToTensorV2()], p=1.)\n",
        "}"
      ]
    },
    {
      "cell_type": "markdown",
      "metadata": {
        "id": "j8DVYR4wXHbM"
      },
      "source": [
        "# <span><h1 style = \"font-family: garamond; font-size: 40px; font-style: normal; letter-spcaing: 3px; background-color: #f6f5f5; color :#fe346e; border-radius: 100px 100px; text-align:center\">Create Model</h1></span>\n",
        "## <span><h2 style = \"font-family: garamond; font-size: 30px; font-style: normal; letter-spcaing: 3px; background-color: #f6f5f5; color :#fe346e; border-radius: 100px 100px\">GeM Pooling</h2></span>"
      ]
    },
    {
      "cell_type": "code",
      "execution_count": null,
      "metadata": {
        "collapsed": true,
        "id": "zmd7LuPOayYL"
      },
      "outputs": [],
      "source": [
        "class GeM(nn.Module):\n",
        "    def __init__(self, p=3, eps=1e-6):\n",
        "        super(GeM, self).__init__()\n",
        "        self.p = nn.Parameter(torch.ones(1)*p)\n",
        "        self.eps = eps\n",
        "\n",
        "    def forward(self, x):\n",
        "        return self.gem(x, p=self.p, eps=self.eps)\n",
        "\n",
        "    def gem(self, x, p=3, eps=1e-6):\n",
        "        return F.avg_pool2d(x.clamp(min=eps).pow(p), (x.size(-2), x.size(-1))).pow(1./p)\n",
        "\n",
        "    def __repr__(self):\n",
        "        return self.__class__.__name__ + \\\n",
        "                '(' + 'p=' + '{:.4f}'.format(self.p.data.tolist()[0]) + \\\n",
        "                ', ' + 'eps=' + str(self.eps) + ')'\n",
        "# class ISICModel(nn.Module):\n",
        "#     def __init__(self, model_name, num_classes=1, pretrained=True, checkpoint_path=None):\n",
        "#         super(ISICModel, self).__init__()\n",
        "#         self.Relu=nn.ReLU()\n",
        "#         self.dropout=nn.Dropout(0.1)\n",
        "#         self.model = timm.create_model(\"swin_base_patch4_window7_224\", pretrained=pretrained, checkpoint_path=checkpoint_path)\n",
        "#         self.model2 = timm.create_model(\"convnext_base\", pretrained=pretrained, checkpoint_path=checkpoint_path)\n",
        "#         #print(self.model)\n",
        "#         #print(self.model2)\n",
        "#         in_features = self.model2.head.fc.in_features+self.model.head.fc.in_features\n",
        "#         self.model.head.fc = nn.Identity()\n",
        "#         self.model2.head.fc=nn.Identity()\n",
        "\n",
        "#         # self.pooling = GeM()\n",
        "#         # self.linear = nn.Linear(in_features, num_classes)\n",
        "#         self.sigmoid = nn.Sigmoid()\n",
        "#         self.nn=nn.Linear(in_features,1024)\n",
        "#         self.nn2 = nn.Linear(1024, num_classes)\n",
        "\n",
        "#     def forward(self, images):\n",
        "#         output = self.model(images)\n",
        "#         output1=self.model2(images)\n",
        "\n",
        "#         output=torch.cat((output1, output), dim=1)\n",
        "#         output=self.Relu(output)\n",
        "#         output=self.dropout(output)\n",
        "#         output=self.nn(output)\n",
        "#         output=self.Relu(output)\n",
        "#         output=self.dropout(output)\n",
        "#         output=self.nn2(output)\n",
        "\n",
        "\n",
        "#         # output = self.linear(features)\n",
        "#         # output = self.sigmoid(output)\n",
        "#         # print(output.shape)\n",
        "#         return output\n",
        "# class ISICModel(nn.Module):\n",
        "#     def __init__(self, model_name, num_classes=1, pretrained=True, checkpoint_path=None):\n",
        "#         super(ISICModel, self).__init__()\n",
        "#         self.Relu=nn.ReLU()\n",
        "#         self.dropout=nn.Dropout(0.1)\n",
        "#         self.model = timm.create_model(\"swin_base_patch4_window7_224\", pretrained=pretrained, checkpoint_path=checkpoint_path)\n",
        "#         self.model2 = timm.create_model(\"convnext_base\", pretrained=pretrained, checkpoint_path=checkpoint_path)\n",
        "#         # print(self.model)\n",
        "#         # print(self.model2)\n",
        "#         in_features = self.model2.classifier.in_features+self.model.head.fc.in_features\n",
        "#         self.model.head.fc = nn.Identity()\n",
        "#         self.model2.classifier = nn.Identity()\n",
        "\n",
        "#         # self.pooling = GeM()\n",
        "#         # self.linear = nn.Linear(in_features, num_classes)\n",
        "#         self.sigmoid = nn.Sigmoid()\n",
        "#         self.nn=nn.Linear(in_features,1024)\n",
        "#         self.nn2 = nn.Linear(1024, num_classes)\n",
        "\n",
        "#     def forward(self, images):\n",
        "#         output = self.model(images)\n",
        "#         output1=self.model2(images)\n",
        "\n",
        "#         output=torch.cat((output1, output), dim=1)\n",
        "#         output=self.Relu(output)\n",
        "#         output=self.dropout(output)\n",
        "#         output=self.nn(output)\n",
        "#         output=self.Relu(output)\n",
        "#         output=self.dropout(output)\n",
        "#         output=self.nn2(output)\n",
        "\n",
        "\n",
        "#         # output = self.linear(features)\n",
        "#         # output = self.sigmoid(output)\n",
        "#         # print(output.shape)\n",
        "#         return output\n",
        "class ISICModel(nn.Module):\n",
        "    def __init__(self, model_name, num_classes=1, pretrained=True, checkpoint_path=None):\n",
        "        super(ISICModel, self).__init__()\n",
        "        self.Relu=nn.ReLU()\n",
        "        self.dropout=nn.Dropout(0.1)\n",
        "        self.model = timm.create_model(\"swin_base_patch4_window7_224\", pretrained=pretrained, checkpoint_path=checkpoint_path)\n",
        "        self.model2 = timm.create_model(\"efficientnet_b0\", pretrained=pretrained, checkpoint_path=checkpoint_path)\n",
        "        # print(self.model)\n",
        "        # print(self.model2)\n",
        "        in_features = self.model2.classifier.in_features+self.model.head.fc.in_features\n",
        "        self.model.head.fc = nn.Identity()\n",
        "        self.model2.classifier = nn.Identity()\n",
        "\n",
        "        # self.pooling = GeM()\n",
        "        # self.linear = nn.Linear(in_features, num_classes)\n",
        "        self.sigmoid = nn.Sigmoid()\n",
        "        self.nn=nn.Linear(in_features,1024)\n",
        "        self.nn2 = nn.Linear(1024, num_classes)\n",
        "\n",
        "    def forward(self, images):\n",
        "        output = self.model(images)\n",
        "        output1=self.model2(images)\n",
        "\n",
        "        output=torch.cat((output1, output), dim=1)\n",
        "        output=self.Relu(output)\n",
        "        output=self.dropout(output)\n",
        "        output=self.nn(output)\n",
        "        output=self.Relu(output)\n",
        "        output=self.dropout(output)\n",
        "        output=self.nn2(output)\n",
        "\n",
        "\n",
        "        # output = self.linear(features)\n",
        "        # output = self.sigmoid(output)\n",
        "        # print(output.shape)\n",
        "        return output\n",
        "torch.cuda.empty_cache()\n",
        "model = ISICModel(CONFIG['model_name'])\n",
        "model.to(CONFIG['device']);\n",
        "#print(model)"
      ]
    },
    {
      "cell_type": "markdown",
      "metadata": {
        "id": "iCDTpr-jXHbM"
      },
      "source": [
        "# <span><h1 style = \"font-family: garamond; font-size: 30px; font-style: normal; letter-spcaing: 3px; background-color: #f6f5f5; color :#fe346e; border-radius: 100px 100px;\">Loss Function</h1></span>"
      ]
    },
    {
      "cell_type": "code",
      "execution_count": null,
      "metadata": {
        "id": "iY2GPaRPXHbM"
      },
      "outputs": [],
      "source": [
        "\n",
        "def criterion(input, target, alpha=0.9, gamma=5):\n",
        "  bce_loss = F.binary_cross_entropy_with_logits(input, target, reduction='none')\n",
        "  pt = torch.exp(-bce_loss)\n",
        "  loss = alpha * (1 - pt) ** gamma * bce_loss\n",
        "  return loss.mean()"
      ]
    },
    {
      "cell_type": "markdown",
      "metadata": {
        "id": "pxbb_yuZXHbM"
      },
      "source": [
        "# <span><h1 style = \"font-family: garamond; font-size: 30px; font-style: normal; letter-spcaing: 3px; background-color: #f6f5f5; color :#fe346e; border-radius: 20px 20px\">Training Function</h1></span>"
      ]
    },
    {
      "cell_type": "code",
      "execution_count": null,
      "metadata": {
        "id": "Qd6LGWqSXHbM"
      },
      "outputs": [],
      "source": [
        "def train_one_epoch(model, optimizer, scheduler, dataloader, device, epoch):\n",
        "    model.train()\n",
        "\n",
        "    dataset_size = 0\n",
        "    running_loss = 0.0\n",
        "    running_auroc  = 0.0\n",
        "\n",
        "    bar = tqdm(enumerate(dataloader), total=len(dataloader))\n",
        "    for step, data in bar:\n",
        "        images = data['image'].to(device, dtype=torch.float)\n",
        "        targets = data['target'].to(device, dtype=torch.float)\n",
        "\n",
        "        batch_size = images.size(0)\n",
        "\n",
        "        outputs = model(images).squeeze()\n",
        "        loss = criterion(outputs, targets)\n",
        "        loss = loss / CONFIG['n_accumulate']\n",
        "\n",
        "        loss.backward()\n",
        "\n",
        "        if (step + 1) % CONFIG['n_accumulate'] == 0:\n",
        "            optimizer.step()\n",
        "\n",
        "            # zero the parameter gradients\n",
        "            optimizer.zero_grad()\n",
        "\n",
        "            if scheduler is not None:\n",
        "                scheduler.step()\n",
        "\n",
        "        auroc = binary_auroc(input=outputs.squeeze(), target=targets).item()\n",
        "\n",
        "        running_loss += (loss.item() * batch_size)\n",
        "        running_auroc  += (auroc * batch_size)\n",
        "        dataset_size += batch_size\n",
        "\n",
        "        epoch_loss = running_loss / dataset_size\n",
        "        epoch_auroc = running_auroc / dataset_size\n",
        "\n",
        "        bar.set_postfix(Epoch=epoch, Train_Loss=epoch_loss, Train_Auroc=epoch_auroc,\n",
        "                        LR=optimizer.param_groups[0]['lr'])\n",
        "    gc.collect()\n",
        "\n",
        "    return epoch_loss, epoch_auroc"
      ]
    },
    {
      "cell_type": "markdown",
      "metadata": {
        "id": "SNmxRZjZXHbM"
      },
      "source": [
        "# <span><h1 style = \"font-family: garamond; font-size: 30px; font-style: normal; letter-spcaing: 3px; background-color: #f6f5f5; color :#fe346e; border-radius: 20px 20px\">Validation Function</h1></span>"
      ]
    },
    {
      "cell_type": "code",
      "execution_count": null,
      "metadata": {
        "id": "puHIBdGtXHbM"
      },
      "outputs": [],
      "source": [
        "@torch.inference_mode()\n",
        "def valid_one_epoch(model, dataloader, device, epoch):\n",
        "    model.eval()\n",
        "\n",
        "    dataset_size = 0\n",
        "    running_loss = 0.0\n",
        "    running_auroc = 0.0\n",
        "    y_true = []\n",
        "    y_pred = []\n",
        "\n",
        "    auroc_metric = AUROC(task=\"binary\").to(device)\n",
        "\n",
        "    bar = tqdm(enumerate(dataloader), total=len(dataloader))\n",
        "    for step, data in bar:\n",
        "        images = data['image'].to(device, dtype=torch.float)\n",
        "        targets = data['target'].to(device, dtype=torch.float)\n",
        "\n",
        "        batch_size = images.size(0)\n",
        "        outputs = model(images).squeeze()\n",
        "        loss = criterion(outputs, targets)\n",
        "        auroc = auroc_metric(torch.sigmoid(outputs), targets.int()).item()\n",
        "\n",
        "        y_true.extend(targets.cpu().numpy())\n",
        "        y_pred.extend(torch.sigmoid(outputs).cpu().detach().numpy())\n",
        "        #y_pred.extend(outputs.cpu().detach().numpy())\n",
        "        running_loss += (loss.item() * batch_size)\n",
        "        running_auroc += (auroc * batch_size)\n",
        "        dataset_size += batch_size\n",
        "\n",
        "        epoch_loss = running_loss / dataset_size\n",
        "        epoch_auroc = running_auroc / dataset_size\n",
        "\n",
        "        bar.set_postfix(Epoch=epoch, Valid_Loss=epoch_loss, Valid_Auroc=epoch_auroc,\n",
        "                        LR=optimizer.param_groups[0]['lr'])\n",
        "\n",
        "    cm = confusion_matrix(y_true, [1 if p > 0.5 else 0 for p in y_pred])\n",
        "\n",
        "    plt.figure(figsize=(8, 6))\n",
        "    sns.heatmap(cm, annot=True, fmt='d', cmap='Blues', cbar=False)\n",
        "    plt.xlabel('Predicted Label')\n",
        "    plt.ylabel('True Label')\n",
        "    plt.title(f'Confusion Matrix - Epoch {epoch}')\n",
        "    plt.show()\n",
        "\n",
        "    fpr, tpr, _ = roc_curve(y_true, y_pred)\n",
        "    roc_auc = auc(fpr, tpr)\n",
        "\n",
        "    plt.figure(figsize=(8, 6))\n",
        "    plt.plot(fpr, tpr, color='darkorange', lw=2, label=f'ROC curve (area = {roc_auc:.2f})')\n",
        "    plt.plot([0, 1], [0, 1], color='navy', lw=2, linestyle='--')\n",
        "    plt.xlim([0.0, 1.0])\n",
        "    plt.ylim([0.0, 1.05])\n",
        "    plt.xlabel('False Positive Rate')\n",
        "    plt.ylabel('True Positive Rate')\n",
        "    plt.title(f'Receiver Operating Characteristic - Epoch {epoch}')\n",
        "    plt.legend(loc=\"lower right\")\n",
        "    plt.show()\n",
        "\n",
        "    gc.collect()\n",
        "\n",
        "    return epoch_loss, epoch_auroc"
      ]
    },
    {
      "cell_type": "markdown",
      "metadata": {
        "id": "HVWulGp4XHbM"
      },
      "source": [
        "# <span><h1 style = \"font-family: garamond; font-size: 40px; font-style: normal; letter-spcaing: 3px; background-color: #f6f5f5; color :#fe346e; border-radius: 100px 100px; text-align:center\">Training</h1></span>"
      ]
    },
    {
      "cell_type": "code",
      "execution_count": null,
      "metadata": {
        "id": "wjyZ8MIfXHbM"
      },
      "outputs": [],
      "source": [
        "def run_training(model, optimizer, scheduler, device, num_epochs):\n",
        "    if torch.cuda.is_available():\n",
        "        print(\"[INFO] Using GPU: {}\\n\".format(torch.cuda.get_device_name()))\n",
        "\n",
        "    start = time.time()\n",
        "    best_model_wts = copy.deepcopy(model.state_dict())\n",
        "    best_epoch_auroc = -np.inf\n",
        "    best_valid_loss = np.inf\n",
        "    history = defaultdict(list)\n",
        "\n",
        "    for epoch in range(1, num_epochs + 1):\n",
        "        gc.collect()\n",
        "        train_epoch_loss, train_epoch_auroc = train_one_epoch(model, optimizer, scheduler,\n",
        "                                           dataloader=train_loader,\n",
        "                                           device=CONFIG['device'], epoch=epoch)\n",
        "\n",
        "        val_epoch_loss, val_epoch_auroc = valid_one_epoch(model, valid_loader, device=CONFIG['device'],\n",
        "                                         epoch=epoch)\n",
        "\n",
        "        history['Train Loss'].append(train_epoch_loss)\n",
        "        history['Valid Loss'].append(val_epoch_loss)\n",
        "        history['Train AUROC'].append(train_epoch_auroc)\n",
        "        history['Valid AUROC'].append(val_epoch_auroc)\n",
        "        history['lr'].append( scheduler.get_lr()[0] )\n",
        "        if val_epoch_loss <= best_valid_loss:\n",
        "            print(f\"Validation Loss Improved ({best_valid_loss} ---> {val_epoch_loss})\")\n",
        "            best_valid_loss = val_epoch_loss\n",
        "            best_model_wts = copy.deepcopy(model.state_dict())\n",
        "            PATH = \"best_loss_conv_swin_withargu_oversample.pt\"\n",
        "            torch.save(model.state_dict(), PATH)\n",
        "            # Save a model file from the current directory\n",
        "            print(f\"Model Saved\")\n",
        "\n",
        "        if best_epoch_auroc <= val_epoch_auroc:\n",
        "            print(f\"Validation AUROC Improved ({best_epoch_auroc} ---> {val_epoch_auroc})\")\n",
        "            best_epoch_auroc = val_epoch_auroc\n",
        "            best_model_wts = copy.deepcopy(model.state_dict())\n",
        "            PATH = \"best_auroc_conv_swin_withargu_oversample.pt\"\n",
        "            torch.save(model.state_dict(), PATH)\n",
        "            # Save a model file from the current directory\n",
        "            print(f\"Model Saved\")\n",
        "\n",
        "\n",
        "\n",
        "        print()\n",
        "\n",
        "    end = time.time()\n",
        "    time_elapsed = end - start\n",
        "    print('Training complete in {:.0f}h {:.0f}m {:.0f}s'.format(\n",
        "        time_elapsed // 3600, (time_elapsed % 3600) // 60, (time_elapsed % 3600) % 60))\n",
        "    print(\"Best AUROC: {:.4f}\".format(best_epoch_auroc))\n",
        "    print(\"Best Loss: {:.4f}\".format(best_valid_loss))\n",
        "\n",
        "    # load best model weights\n",
        "    model.load_state_dict(best_model_wts)\n",
        "\n",
        "    return model, history"
      ]
    },
    {
      "cell_type": "code",
      "execution_count": null,
      "metadata": {
        "id": "tR1U0HWZXHbP"
      },
      "outputs": [],
      "source": [
        "def fetch_scheduler(optimizer):\n",
        "    if CONFIG['scheduler'] == 'CosineAnnealingLR':\n",
        "        scheduler = lr_scheduler.CosineAnnealingLR(optimizer,T_max=CONFIG['T_max'],\n",
        "                                                   eta_min=CONFIG['min_lr'])\n",
        "    elif CONFIG['scheduler'] == 'CosineAnnealingWarmRestarts':\n",
        "        scheduler = lr_scheduler.CosineAnnealingWarmRestarts(optimizer,T_0=CONFIG['T_0'],\n",
        "                                                             eta_min=CONFIG['min_lr'])\n",
        "    elif CONFIG['scheduler'] == None:\n",
        "        return None\n",
        "\n",
        "    return scheduler"
      ]
    },
    {
      "cell_type": "markdown",
      "metadata": {
        "id": "TkKX1a1AXHbQ"
      },
      "source": [
        "# <span><h1 style = \"font-family: garamond; font-size: 30px; font-style: normal; letter-spcaing: 3px; background-color: #f6f5f5; color :#fe346e; border-radius: 20px 20px\">Prepare Dataloader</h1></span>"
      ]
    },
    {
      "cell_type": "code",
      "execution_count": null,
      "metadata": {
        "id": "DweLkkHbXHbQ"
      },
      "outputs": [],
      "source": [
        "###实际上用两个都是ISICDataset效果可能更好\n",
        "def prepare_loaders(df, fold):\n",
        "    df_train = df[df.kfold != fold].reset_index(drop=True)\n",
        "    df_valid = df[df.kfold == fold].reset_index(drop=True)\n",
        "\n",
        "    train_dataset = ISICDataset_for_Train(df_train, transforms=data_transforms)\n",
        "    ##train_dataset = ISICDataset(df_train, transforms=data_transforms)\n",
        "    valid_dataset = ISICDataset(df_valid, transforms=data_transforms)\n",
        "    #train_dataset = ISIC_2024_Dataset_for_train(df_train, transforms=data_transforms)\n",
        "    #valid_dataset = ISICDataset(df_valid, transforms=data_transforms)\n",
        "    train_loader = DataLoader(train_dataset, batch_size=CONFIG['train_batch_size'],\n",
        "                              num_workers=2, shuffle=True, pin_memory=True, drop_last=True)\n",
        "    valid_loader = DataLoader(valid_dataset, batch_size=CONFIG['valid_batch_size'],\n",
        "                              num_workers=2, shuffle=False, pin_memory=True)\n",
        "\n",
        "    return train_loader, valid_loader"
      ]
    },
    {
      "cell_type": "code",
      "execution_count": null,
      "metadata": {
        "id": "Hd-p__slXHbQ"
      },
      "outputs": [],
      "source": [
        "train_loader, valid_loader = prepare_loaders(df, fold=0)"
      ]
    },
    {
      "cell_type": "markdown",
      "metadata": {
        "id": "SO6k2o1bXHbQ"
      },
      "source": [
        "\n",
        "## <span><h1 style = \"font-family: garamond; font-size: 30px; font-style: normal; letter-spcaing: 3px; background-color: #f6f5f5; color :#fe346e; border-radius: 20px 20px\">Define Optimizer and Scheduler</h1></span>"
      ]
    },
    {
      "cell_type": "code",
      "execution_count": null,
      "metadata": {
        "id": "Lftro3C3XHbQ"
      },
      "outputs": [],
      "source": [
        "optimizer = optim.Adam(model.parameters(), lr=CONFIG['learning_rate'],\n",
        "                       weight_decay=CONFIG['weight_decay'])\n",
        "scheduler = fetch_scheduler(optimizer)"
      ]
    },
    {
      "cell_type": "markdown",
      "metadata": {
        "id": "XveJQ7VJXHbQ"
      },
      "source": [
        "## <span><h1 style = \"font-family: garamond; font-size: 30px; font-style: normal; letter-spcaing: 3px; background-color: #f6f5f5; color :#fe346e; border-radius: 20px 20px\">Start Training</h1></span>"
      ]
    },
    {
      "cell_type": "code",
      "execution_count": null,
      "metadata": {
        "id": "anWc60JhXHbQ"
      },
      "outputs": [],
      "source": [
        "model, history = run_training(model, optimizer, scheduler,\n",
        "                              device=CONFIG['device'],\n",
        "                              num_epochs=CONFIG['epochs'])"
      ]
    },
    {
      "cell_type": "code",
      "execution_count": null,
      "metadata": {
        "id": "wU3jjGYDY-nq"
      },
      "outputs": [],
      "source": [
        "from google.colab import files\n",
        "torch.save(model.state_dict(),\"swin224.ckpt\")\n",
        "files.download('swin224.ckpt')"
      ]
    },
    {
      "cell_type": "code",
      "execution_count": null,
      "metadata": {
        "id": "ykos4ySaXHbQ"
      },
      "outputs": [],
      "source": [
        "history = pd.DataFrame.from_dict(history)\n",
        "history.to_csv(\"history.csv\", index=False)"
      ]
    },
    {
      "cell_type": "markdown",
      "metadata": {
        "id": "DGcMsOBjXHbQ"
      },
      "source": [
        "# <span><h1 style = \"font-family: garamond; font-size: 40px; font-style: normal; letter-spcaing: 3px; background-color: #f6f5f5; color :#fe346e; border-radius: 100px 100px; text-align:center\">Logs</h1></span>"
      ]
    },
    {
      "cell_type": "code",
      "execution_count": null,
      "metadata": {
        "id": "ErWt6ydgXHbQ"
      },
      "outputs": [],
      "source": [
        "plt.plot( range(history.shape[0]), history[\"Train Loss\"].values, label=\"Train Loss\")\n",
        "plt.plot( range(history.shape[0]), history[\"Valid Loss\"].values, label=\"Valid Loss\")\n",
        "plt.xlabel(\"epochs\")\n",
        "plt.ylabel(\"Loss\")\n",
        "plt.grid()\n",
        "plt.legend()\n",
        "plt.show()"
      ]
    },
    {
      "cell_type": "code",
      "execution_count": null,
      "metadata": {
        "id": "3UtnppI9XHbQ"
      },
      "outputs": [],
      "source": [
        "plt.plot( range(history.shape[0]), history[\"Train AUROC\"].values, label=\"Train AUROC\")\n",
        "plt.plot( range(history.shape[0]), history[\"Valid AUROC\"].values, label=\"Valid AUROC\")\n",
        "plt.xlabel(\"epochs\")\n",
        "plt.ylabel(\"AUROC\")\n",
        "plt.grid()\n",
        "plt.legend()\n",
        "plt.show()"
      ]
    },
    {
      "cell_type": "code",
      "execution_count": null,
      "metadata": {
        "id": "aRUuMp1kXHbQ"
      },
      "outputs": [],
      "source": [
        "plt.plot( range(history.shape[0]), history[\"lr\"].values, label=\"lr\")\n",
        "plt.xlabel(\"epochs\")\n",
        "plt.ylabel(\"lr\")\n",
        "plt.grid()\n",
        "plt.legend()\n",
        "plt.show()"
      ]
    },
    {
      "cell_type": "code",
      "execution_count": null,
      "metadata": {
        "id": "A7UtMiR1XHbQ"
      },
      "outputs": [],
      "source": []
    }
  ],
  "metadata": {
    "accelerator": "GPU",
    "colab": {
      "gpuType": "A100",
      "machine_shape": "hm",
      "provenance": []
    },
    "kaggle": {
      "accelerator": "nvidiaTeslaT4",
      "dataSources": [
        {
          "databundleVersionId": 9094797,
          "sourceId": 63056,
          "sourceType": "competition"
        },
        {
          "datasetId": 5295511,
          "sourceId": 8805041,
          "sourceType": "datasetVersion"
        },
        {
          "datasetId": 5295526,
          "sourceId": 8805074,
          "sourceType": "datasetVersion"
        },
        {
          "datasetId": 5295545,
          "sourceId": 8805104,
          "sourceType": "datasetVersion"
        },
        {
          "modelId": 312,
          "modelInstanceId": 2659,
          "sourceId": 3732,
          "sourceType": "modelInstanceVersion"
        },
        {
          "isSourceIdPinned": true,
          "modelId": 96028,
          "modelInstanceId": 71041,
          "sourceId": 84572,
          "sourceType": "modelInstanceVersion"
        }
      ],
      "isGpuEnabled": true,
      "isInternetEnabled": false,
      "language": "python",
      "sourceType": "notebook"
    },
    "kernelspec": {
      "display_name": "Python 3",
      "name": "python3"
    },
    "language_info": {
      "codemirror_mode": {
        "name": "ipython",
        "version": 3
      },
      "file_extension": ".py",
      "mimetype": "text/x-python",
      "name": "python",
      "nbconvert_exporter": "python",
      "pygments_lexer": "ipython3",
      "version": "3.10.13"
    },
    "papermill": {
      "default_parameters": {},
      "duration": 793.680734,
      "end_time": "2024-06-29T23:30:34.642937",
      "environment_variables": {},
      "exception": null,
      "input_path": "__notebook__.ipynb",
      "output_path": "__notebook__.ipynb",
      "parameters": {},
      "start_time": "2024-06-29T23:17:20.962203",
      "version": "2.5.0"
    }
  },
  "nbformat": 4,
  "nbformat_minor": 0
}